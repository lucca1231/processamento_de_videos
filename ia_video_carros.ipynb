{
 "cells": [
  {
   "cell_type": "code",
   "execution_count": 14,
   "metadata": {},
   "outputs": [],
   "source": [
    "import cv2\n",
    "import time\n",
    "import numpy as np"
   ]
  },
  {
   "cell_type": "code",
   "execution_count": 21,
   "metadata": {},
   "outputs": [],
   "source": [
    "vid = r\"C:\\Users\\Windows\\Downloads\\Cars.mp4\"\n",
    "modelo = r\"C:\\Users\\Windows\\Downloads\\haarcascade_car (1).xml\"\n",
    "\n",
    "video = cv2.VideoCapture(vid)\n",
    "model = cv2.CascadeClassifier(modelo)\n",
    "\n",
    "while video.isOpened():\n",
    "    \n",
    "    time.sleep(.05)\n",
    "    ret, frame = video.read()\n",
    "    cinza = cv2.cvtColor(frame, cv2.COLOR_BGR2GRAY)\n",
    "\n",
    "    carro = model.detectMultiScale(cinza, 1.4, 2)\n",
    "\n",
    "    for (x,y,w,h) in carro:\n",
    "        cv2.rectangle(frame, (x,y), (x+w,y+h), (255,0,255))\n",
    "        cv2.imshow('carros', frame)\n",
    "\n",
    "    if cv2.waitKey(1) == 13:\n",
    "        break\n",
    "\n",
    "video.release()\n",
    "cv2.destroyAllWindows()"
   ]
  }
 ],
 "metadata": {
  "kernelspec": {
   "display_name": "Python 3",
   "language": "python",
   "name": "python3"
  },
  "language_info": {
   "codemirror_mode": {
    "name": "ipython",
    "version": 3
   },
   "file_extension": ".py",
   "mimetype": "text/x-python",
   "name": "python",
   "nbconvert_exporter": "python",
   "pygments_lexer": "ipython3",
   "version": "3.11.9"
  }
 },
 "nbformat": 4,
 "nbformat_minor": 2
}
